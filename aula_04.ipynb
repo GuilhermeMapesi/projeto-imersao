{
  "nbformat": 4,
  "nbformat_minor": 0,
  "metadata": {
    "colab": {
      "provenance": [],
      "toc_visible": true,
      "authorship_tag": "ABX9TyPLkcvYNzIEsXganpsuNza9",
      "include_colab_link": true
    },
    "kernelspec": {
      "name": "python3",
      "display_name": "Python 3"
    },
    "language_info": {
      "name": "python"
    }
  },
  "cells": [
    {
      "cell_type": "markdown",
      "metadata": {
        "id": "view-in-github",
        "colab_type": "text"
      },
      "source": [
        "<a href=\"https://colab.research.google.com/github/GuilhermeMapesi/projeto-imersao/blob/main/aula_04.ipynb\" target=\"_parent\"><img src=\"https://colab.research.google.com/assets/colab-badge.svg\" alt=\"Open In Colab\"/></a>"
      ]
    },
    {
      "cell_type": "code",
      "execution_count": 1,
      "metadata": {
        "id": "O7YCoNhQSBvm"
      },
      "outputs": [],
      "source": [
        "#Instalando o SDK do Google\n",
        "pip install -q -U google-generativeai"
      ]
    },
    {
      "cell_type": "code",
      "source": [
        "#Configurações iniciais\n",
        "import google.generativeai as genai\n",
        "\n",
        "from google.colab import userdata\n",
        "\n",
        "API_KEY=userdata.get('API_KEY')\n",
        "genai.configure(api_key=API_KEY)"
      ],
      "metadata": {
        "id": "RDd2Ka6Lyv2C"
      },
      "execution_count": 3,
      "outputs": []
    },
    {
      "cell_type": "code",
      "source": [
        "#Configurando o modelo\n",
        "generation_config = {\n",
        "    \"candidate_count\": 1,\n",
        "    \"temperature\": 1,\n",
        "}"
      ],
      "metadata": {
        "id": "CDj9XyK03BjJ"
      },
      "execution_count": 6,
      "outputs": []
    },
    {
      "cell_type": "code",
      "source": [
        "safety_settings = {\n",
        "    \"HARASSMENT\" : \"BLOCK_NONE\",\n",
        "    \"HATE\" : \"BLOCK_NONE\",\n",
        "    \"SEXUAL\" : \"BLOCK_NONE\",\n",
        "    \"DANGEROUS\" : \"BLOCK_NONE\",\n",
        "}"
      ],
      "metadata": {
        "id": "9obN6Mzw3fNL"
      },
      "execution_count": 8,
      "outputs": []
    },
    {
      "cell_type": "code",
      "source": [
        "model = genai.GenerativeModel(model_name=\"gemini-1.0-pro\",\n",
        "                              generation_config=generation_config,\n",
        "                              safety_settings=safety_settings)"
      ],
      "metadata": {
        "id": "X0R0gJqQ1QDX"
      },
      "execution_count": 9,
      "outputs": []
    },
    {
      "cell_type": "code",
      "source": [
        "#melhorando a visualização\n",
        "import textwrap\n",
        "from IPython.display import display\n",
        "from IPython.display import Markdown\n",
        "\n",
        "def to_markdown(text):\n",
        "  text = text.replace('•', '  *')\n",
        "  return Markdown(textwrap.indent(text, '> ', predicate=lambda _: True))"
      ],
      "metadata": {
        "id": "C-G88fbj8oBd"
      },
      "execution_count": 16,
      "outputs": []
    },
    {
      "cell_type": "code",
      "source": [
        "response = model.generate_content(\"Crie o sumário de um livro de aventura\")\n",
        "print(response.text)"
      ],
      "metadata": {
        "colab": {
          "base_uri": "https://localhost:8080/",
          "height": 662
        },
        "id": "bcQmqOxu1cao",
        "outputId": "d945cf42-eaf1-4da1-b7a3-a11f4421e345"
      },
      "execution_count": 10,
      "outputs": [
        {
          "output_type": "stream",
          "name": "stdout",
          "text": [
            "**Sumário**\n",
            "\n",
            "**Capítulo 1: O Chamado à Aventura**\n",
            "\n",
            "* Introdução dos personagens principais: Anya, uma destemida exploradora, e Ethan, um brilhante inventor.\n",
            "* Eles recebem um mapa enigmático que sugere a existência de uma cidade perdida.\n",
            "* Decidem embarcar em uma perigosa jornada para encontrá-la.\n",
            "\n",
            "**Capítulo 2: A Floresta Encantada**\n",
            "\n",
            "* Anya e Ethan viajam por uma floresta estranha e encantada, repleta de criaturas místicas.\n",
            "* Eles enfrentam um gigoso troll e desvendam um antigo feitiço.\n",
            "* Chegam aos limites da cidade perdida, mas descobrem que ela está protegida por uma barreira mágica.\n",
            "\n",
            "**Capítulo 3: A Busca pela Chave**\n",
            "\n",
            "* Anya e Ethan buscam a chave que abre a barreira mágica.\n",
            "* Eles encontram uma série de obstáculos e resolvem quebra-cabeças antigos.\n",
            "* Enfim, descobrem a chave escondida em um antigo santuário.\n",
            "\n",
            "**Capítulo 4: A Cidade Perdida**\n",
            "\n",
            "* Anya e Ethan entram na cidade perdida e ficam maravilhados com sua beleza.\n",
            "* Eles aprendem sobre sua história e seus habitantes desaparecidos.\n",
            "* Descobrem um objeto misterioso que pode controlar o destino da cidade.\n",
            "\n",
            "**Capítulo 5: A Batalha Final**\n",
            "\n",
            "* Um vilão astuto chamado Zarthus tenta roubar o objeto misterioso.\n",
            "* Anya e Ethan unem forças com os habitantes da cidade para derrotar Zarthus e seus asseclas.\n",
            "* Eles restauram a cidade perdida à sua antiga glória e selam seu segredo mais uma vez.\n",
            "\n",
            "**Epílogo: O Retorno dos Exploradores**\n",
            "\n",
            "* Anya e Ethan retornam ao mundo acima com o conhecimento e as memórias de sua jornada extraordinária.\n",
            "* Eles são recebidos como heróis e compartilham suas descobertas, inspirando outras pessoas a buscar aventuras e desvendar mistérios desconhecidos.\n"
          ]
        }
      ]
    },
    {
      "cell_type": "code",
      "source": [
        "chat = model.start_chat(history=[])"
      ],
      "metadata": {
        "id": "jXPSnq9J5uoe"
      },
      "execution_count": 11,
      "outputs": []
    },
    {
      "cell_type": "code",
      "source": [
        "prompt = input(\"Esperando Prompt: \")\n",
        "\n",
        "while prompt != \"fim\":\n",
        "  response = chat.send_message(prompt)\n",
        "  print(\"Resposta: \", response.text, \"\\n\")\n",
        "  prompt = input(\"Esperando Prompt: \")"
      ],
      "metadata": {
        "colab": {
          "base_uri": "https://localhost:8080/",
          "height": 228
        },
        "id": "gqxNHmqu55LX",
        "outputId": "258bf0f5-f7b5-49ec-b64d-973536360fc4"
      },
      "execution_count": 17,
      "outputs": [
        {
          "name": "stdout",
          "output_type": "stream",
          "text": [
            "Esperando Prompt: qual a capital do brasil?\n",
            "Resposta:  Brasília \n",
            "\n",
            "Esperando Prompt: qual a idade da cidade?\n",
            "Resposta:  Brasília foi fundada em 21 de abril de 1960. Portanto, em 2023, a cidade tem **63 anos**.\n",
            "\n",
            "Brasília foi planejada e construída especificamente para ser a nova capital do Brasil, substituindo o Rio de Janeiro. O projeto da cidade foi liderado pelo arquiteto Oscar Niemeyer e pelo urbanista Lúcio Costa, e a construção foi concluída em apenas quatro anos.\n",
            "\n",
            "Brasília é conhecida por sua arquitetura modernista única, que lhe valeu o status de Patrimônio Mundial da UNESCO. É também uma cidade muito verde, com muitos parques e áreas verdes. \n",
            "\n",
            "Esperando Prompt: fim\n"
          ]
        }
      ]
    }
  ]
}